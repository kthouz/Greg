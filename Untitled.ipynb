{
 "cells": [
  {
   "cell_type": "code",
   "execution_count": 2,
   "metadata": {
    "collapsed": false
   },
   "outputs": [],
   "source": [
    "import numpy as np\n",
    "import pandas as pd\n",
    "import matplotlib.pyplot as plt\n",
    "from glob import glob\n",
    "from pprint import pprint\n",
    "from scipy import spatial\n",
    "from sklearn.preprocessing import normalize as Normalize\n",
    "import cv2"
   ]
  },
  {
   "cell_type": "code",
   "execution_count": 3,
   "metadata": {
    "collapsed": true
   },
   "outputs": [],
   "source": [
    "class GregImages():\n",
    "    def __init__(self,directory,img_format='jpg'):\n",
    "        self.path = directory\n",
    "        self.img_filenames = glob(directory+'*.'+img_format)\n",
    "    \n",
    "    def load_img(self,img_filename,to_gray=False,display=False):\n",
    "        try:\n",
    "            img = cv2.imread(img_filename)\n",
    "            if to_gray:\n",
    "                img = cv2.cvtColor(img,cv2.COLOR_BGR2GRAY)\n",
    "            if display:\n",
    "                plt.imshow(img)\n",
    "                plt.show()\n",
    "            return img\n",
    "        except:\n",
    "            print \"image not found\"\n",
    "    \n",
    "    def vectorize(self,img):\n",
    "        import warnings\n",
    "        warnings.filterwarnings('ignore')\n",
    "        \n",
    "        v = np.reshape(img,-1)\n",
    "        return Normalize(v)\n",
    "    \n",
    "    def correlate_imgs(self,v1,v2):\n",
    "        \"\"\"\n",
    "        calculate correlation between two images\n",
    "        \"\"\"\n",
    "        if v1.shape == v2.shape:\n",
    "            if (len(v1.shape)>1) or (len(v2.shape)>1):\n",
    "                v1 = self.vectorize(v1)\n",
    "                v2 = self.vectorize(v2)\n",
    "            cor = 1-spatial.distance.cosine(v1,v2)\n",
    "            return cor\n",
    "        else:\n",
    "            print \"images should be of same dimension\"\n",
    "            return 0"
   ]
  },
  {
   "cell_type": "code",
   "execution_count": 16,
   "metadata": {
    "collapsed": false
   },
   "outputs": [],
   "source": [
    "if __name__ == '__main__':\n",
    "    g = GregImages('img/')\n",
    "    filenames = g.img_filenames[0:300]\n",
    "    im0 = g.vectorize(g.load_img(filenames[0],display=False,to_gray=True))\n",
    "    cor = []\n",
    "    for i in range(len(filenames)):\n",
    "        imi = g.vectorize(g.load_img(filenames[i],to_gray=True))\n",
    "        cor.append(g.correlate_imgs(im0,imi))\n",
    "    plt.plot(cor)\n",
    "    plt.xlabel('frame #')\n",
    "    plt.ylabel('correlation w.r.t 1st frame')\n",
    "    plt.savefig('output.eps', format='eps',dpi=1000)\n",
    "    plt.show()"
   ]
  },
  {
   "cell_type": "code",
   "execution_count": 5,
   "metadata": {
    "collapsed": true
   },
   "outputs": [],
   "source": [
    "?Normalize"
   ]
  },
  {
   "cell_type": "code",
   "execution_count": null,
   "metadata": {
    "collapsed": true
   },
   "outputs": [],
   "source": []
  }
 ],
 "metadata": {
  "kernelspec": {
   "display_name": "Python 2",
   "language": "python",
   "name": "python2"
  },
  "language_info": {
   "codemirror_mode": {
    "name": "ipython",
    "version": 2
   },
   "file_extension": ".py",
   "mimetype": "text/x-python",
   "name": "python",
   "nbconvert_exporter": "python",
   "pygments_lexer": "ipython2",
   "version": "2.7.10"
  }
 },
 "nbformat": 4,
 "nbformat_minor": 0
}
